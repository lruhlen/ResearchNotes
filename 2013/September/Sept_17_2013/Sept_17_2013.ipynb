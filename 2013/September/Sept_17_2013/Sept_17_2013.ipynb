{
 "metadata": {
  "name": ""
 },
 "nbformat": 3,
 "nbformat_minor": 0,
 "worksheets": [
  {
   "cells": [
    {
     "cell_type": "markdown",
     "metadata": {},
     "source": [
      "# September 17 & 18, 2013"
     ]
    },
    {
     "cell_type": "markdown",
     "metadata": {},
     "source": [
      "###From last time:\n",
      "\n",
      " + Got the 2D interpolations working (on mass-period vs. ecc and % change in radius)\n",
      "\n",
      "###Today, want to:\n",
      "\n",
      " + address the weaknesses listed in my email to Greg:\n",
      " \n",
      "1. Not all runs in each m-p plot evolved to the same age between their initial and final states.\n",
      "\n",
      "2. The starting radii vary according to mass, somewhat.  This means the % difference between the initial and final radii isn't a totally iron-clad indicator of how much each planet in each m-p diagram shrank or grew over time.\n",
      "\n",
      "3. Not all simulations started at the same initial age.\n",
      "\n",
      "4. As the eccentricity increases, low-mass + short-period planets start dropping of the map, so to speak.  The amount of tidal heating they receive prevents their simulations from ever producing converged models.  As such, the % change in radius appears artificially flat and low in that region of parameter space.\n",
      "---"
     ]
    },
    {
     "cell_type": "code",
     "collapsed": true,
     "input": [
      "run quickstart.py"
     ],
     "language": "python",
     "metadata": {},
     "outputs": [],
     "prompt_number": 3
    },
    {
     "cell_type": "markdown",
     "metadata": {},
     "source": [
      "Getting the command above to run took two hours of package re-installation.  Also, fruitless wading through google results.  "
     ]
    },
    {
     "cell_type": "markdown",
     "metadata": {},
     "source": [
      "Anyway, let's start by addressing point (1) above.  \n",
      "\n",
      "This requires making changes to the Fortran code itself:\n",
      "\n",
      "+ (DONE) Made a new copy of full_tidal_heating.f to work on this change (full_tidal_heating_time_limited.f)\n",
      "+ (DONE) Add in maxTime and dTime_Print (type) variables to the input parameter read in\n",
      "  - (DONE) May need to add/adjust variable scoping to get those vars passed correctly b/w read-in and main routines\n",
      "+ (DONE) Add in check conditions on the time (i.e. is it time to print out a model?) to the main routine\n",
      "+ (NOT NECESSARY) May need to modify printm to accept/know info about the current time (rather than number) of the model\n",
      "+ (DO LATER) Maybe also add some check codes to the end of main subroutine to tell the user how/whether the run completed successfully or not (i.e. had to quit before maxTime b/c it couldn't converge... or something)\n"
     ]
    },
    {
     "cell_type": "markdown",
     "metadata": {},
     "source": [
      "(FIXED) Right now, the problem is finding a good test case for these changes.  Running the code w/ zero eccentricity (i.e. no tidal heating) with the 0.3Mjup_cooled and 1MjNF input models--> they take a while to converge.  Need a test case model that converges w/ zero eccentricity easily."
     ]
    },
    {
     "cell_type": "markdown",
     "metadata": {},
     "source": [
      "The modification works.  Tested it on cases where the DTIME value changes many times over the course of the simulation (e.g. due to time-dependent eccentricity values), and it works on that.\n",
      "\n",
      "+ Now, need to modify these python routines to handle the addition of these 2 extra input parameters:\n",
      " - **make-input-files**\n",
      "   - copied over existing version to --> make_input_files_numruns_limited.py\n",
      "   - new version --> **make_input_files_time_limited.py**\n",
      " - parse-simulations \n",
      " - update-index\n",
      " - (possibly?) search-index file \n"
     ]
    },
    {
     "cell_type": "code",
     "collapsed": false,
     "input": [
      "run make_input_files_time_limited.py"
     ],
     "language": "python",
     "metadata": {},
     "outputs": [],
     "prompt_number": 4
    },
    {
     "cell_type": "code",
     "collapsed": false,
     "input": [
      "make_input_files_time_limited()"
     ],
     "language": "python",
     "metadata": {},
     "outputs": [
      {
       "metadata": {},
       "output_type": "pyout",
       "prompt_number": 5,
       "text": [
        "0"
       ]
      }
     ],
     "prompt_number": 5
    },
    {
     "cell_type": "code",
     "collapsed": false,
     "input": [
      "run make_input_files_time_limited.py"
     ],
     "language": "python",
     "metadata": {},
     "outputs": [],
     "prompt_number": 30
    },
    {
     "cell_type": "code",
     "collapsed": false,
     "input": [
      "make_input_files_time_limited()"
     ],
     "language": "python",
     "metadata": {},
     "outputs": [
      {
       "metadata": {},
       "output_type": "pyout",
       "prompt_number": 6,
       "text": [
        "0"
       ]
      }
     ],
     "prompt_number": 6
    },
    {
     "cell_type": "markdown",
     "metadata": {},
     "source": [
      "I've got the code running on the input file that generated.  So far, it seems to be doing well.  It will be running for a while, though.  In the meantime, let's check out the other python functions that may need tweaking.\n",
      "\n",
      "+ parse_kozai_results.py looks like it's fine as-is.\n",
      "+ batch_commands.py --> made a small cosmetic change.\n",
      "+ update_index.py --> added TMAX and TWRT to the list of keys/values to extract"
     ]
    },
    {
     "cell_type": "code",
     "collapsed": false,
     "input": [
      "run update_index.py"
     ],
     "language": "python",
     "metadata": {},
     "outputs": [],
     "prompt_number": 7
    },
    {
     "cell_type": "code",
     "collapsed": false,
     "input": [
      "run batch_commands.py"
     ],
     "language": "python",
     "metadata": {},
     "outputs": [],
     "prompt_number": 9
    },
    {
     "cell_type": "code",
     "collapsed": false,
     "input": [
      "batch_parse(1)"
     ],
     "language": "python",
     "metadata": {},
     "outputs": [
      {
       "output_type": "stream",
       "stream": "stdout",
       "text": [
        "Updating the index file\n",
        "Parsed  /Volumes/Data/Work/Research/BodenheimerCode/Code_for_Kozai/outputs/batch_outputs/run1.txt\n"
       ]
      },
      {
       "metadata": {},
       "output_type": "pyout",
       "prompt_number": 39,
       "text": [
        "0"
       ]
      }
     ],
     "prompt_number": 39
    },
    {
     "cell_type": "code",
     "collapsed": false,
     "input": [
      "data = search_index()"
     ],
     "language": "python",
     "metadata": {},
     "outputs": [
      {
       "ename": "InconsistentTableError",
       "evalue": "\nERROR: Unable to guess table for with the guesses listed below:\nReader:Basic\nReader:Rdb\nReader:Tab\nReader:Cds\nReader:Daophot\nReader:SExtractor\nReader:Ipac\nReader:Latex\nReader:AASTex\nReader:CommentedHeader delimiter: '|' quotechar: '\"'\nReader:CommentedHeader delimiter: '|' quotechar: \"'\"\nReader:CommentedHeader delimiter: ',' quotechar: '\"'\nReader:CommentedHeader delimiter: ',' quotechar: \"'\"\nReader:CommentedHeader delimiter: ' ' quotechar: '\"'\nReader:CommentedHeader delimiter: ' ' quotechar: \"'\"\nReader:CommentedHeader delimiter: '\\\\s' quotechar: '\"'\nReader:CommentedHeader delimiter: '\\\\s' quotechar: \"'\"\nReader:Basic delimiter: '|' quotechar: '\"'\nReader:Basic delimiter: '|' quotechar: \"'\"\nReader:Basic delimiter: ',' quotechar: '\"'\nReader:Basic delimiter: ',' quotechar: \"'\"\nReader:Basic delimiter: ' ' quotechar: '\"'\nReader:Basic delimiter: ' ' quotechar: \"'\"\nReader:Basic delimiter: '\\\\s' quotechar: '\"'\nReader:Basic delimiter: '\\\\s' quotechar: \"'\"\nReader:NoHeader delimiter: '|' quotechar: '\"'\nReader:NoHeader delimiter: '|' quotechar: \"'\"\nReader:NoHeader delimiter: ',' quotechar: '\"'\nReader:NoHeader delimiter: ',' quotechar: \"'\"\nReader:NoHeader delimiter: ' ' quotechar: '\"'\nReader:NoHeader delimiter: ' ' quotechar: \"'\"\nReader:NoHeader delimiter: '\\\\s' quotechar: '\"'\nReader:NoHeader delimiter: '\\\\s' quotechar: \"'\"\nReader:Basic\nERROR: Unable to guess table for with the guesses listed above.\nCheck the table and try with guess=False and appropriate arguments to read()",
       "output_type": "pyerr",
       "traceback": [
        "\u001b[0;31m---------------------------------------------------------------------------\u001b[0m\n\u001b[0;31mInconsistentTableError\u001b[0m                    Traceback (most recent call last)",
        "\u001b[0;32m<ipython-input-11-15ee0aa03cdb>\u001b[0m in \u001b[0;36m<module>\u001b[0;34m()\u001b[0m\n\u001b[0;32m----> 1\u001b[0;31m \u001b[0mdata\u001b[0m \u001b[0;34m=\u001b[0m \u001b[0msearch_index\u001b[0m\u001b[0;34m(\u001b[0m\u001b[0;34m)\u001b[0m\u001b[0;34m\u001b[0m\u001b[0m\n\u001b[0m",
        "\u001b[0;32m/Volumes/Data/Work/Research/BodenheimerCode/Code_for_Kozai/python_scripts/search_index.pyc\u001b[0m in \u001b[0;36msearch_index\u001b[0;34m()\u001b[0m\n\u001b[1;32m     22\u001b[0m     \u001b[0mpath_to_index_file\u001b[0m \u001b[0;34m=\u001b[0m \u001b[0;34m'/Volumes/Data/Work/Research/BodenheimerCode/Code_for_Kozai/outputs/SIMULATION_INDEX.txt'\u001b[0m\u001b[0;34m\u001b[0m\u001b[0m\n\u001b[1;32m     23\u001b[0m     \u001b[0;31m#index_data = atpy.Table(path_to_index_file,type='ascii',masked=True)\u001b[0m\u001b[0;34m\u001b[0m\u001b[0;34m\u001b[0m\u001b[0m\n\u001b[0;32m---> 24\u001b[0;31m     \u001b[0mindex_data\u001b[0m \u001b[0;34m=\u001b[0m \u001b[0matpy\u001b[0m\u001b[0;34m.\u001b[0m\u001b[0mTable\u001b[0m\u001b[0;34m(\u001b[0m\u001b[0mpath_to_index_file\u001b[0m\u001b[0;34m,\u001b[0m\u001b[0mtype\u001b[0m\u001b[0;34m=\u001b[0m\u001b[0;34m'ascii'\u001b[0m\u001b[0;34m)\u001b[0m\u001b[0;34m\u001b[0m\u001b[0m\n\u001b[0m\u001b[1;32m     25\u001b[0m     \u001b[0mdates\u001b[0m \u001b[0;34m=\u001b[0m \u001b[0mpd\u001b[0m\u001b[0;34m.\u001b[0m\u001b[0mto_datetime\u001b[0m\u001b[0;34m(\u001b[0m\u001b[0mindex_data\u001b[0m\u001b[0;34m.\u001b[0m\u001b[0mDateCreated\u001b[0m\u001b[0;34m)\u001b[0m\u001b[0;34m\u001b[0m\u001b[0m\n\u001b[1;32m     26\u001b[0m \u001b[0;34m\u001b[0m\u001b[0m\n",
        "\u001b[0;32m/Users/laurel/Library/Enthought/Canopy_32bit/User/lib/python2.7/site-packages/ATpy-0.9.7-py2.7.egg/atpy/basetable.pyc\u001b[0m in \u001b[0;36m__init__\u001b[0;34m(self, *args, **kwargs)\u001b[0m\n\u001b[1;32m    166\u001b[0m \u001b[0;34m\u001b[0m\u001b[0m\n\u001b[1;32m    167\u001b[0m         \u001b[0;32mif\u001b[0m \u001b[0mlen\u001b[0m\u001b[0;34m(\u001b[0m\u001b[0margs\u001b[0m\u001b[0;34m)\u001b[0m \u001b[0;34m+\u001b[0m \u001b[0mlen\u001b[0m\u001b[0;34m(\u001b[0m\u001b[0mkwargs\u001b[0m\u001b[0;34m)\u001b[0m \u001b[0;34m>\u001b[0m \u001b[0;36m0\u001b[0m\u001b[0;34m:\u001b[0m\u001b[0;34m\u001b[0m\u001b[0m\n\u001b[0;32m--> 168\u001b[0;31m             \u001b[0mself\u001b[0m\u001b[0;34m.\u001b[0m\u001b[0mread\u001b[0m\u001b[0;34m(\u001b[0m\u001b[0;34m*\u001b[0m\u001b[0margs\u001b[0m\u001b[0;34m,\u001b[0m \u001b[0;34m**\u001b[0m\u001b[0mkwargs\u001b[0m\u001b[0;34m)\u001b[0m\u001b[0;34m\u001b[0m\u001b[0m\n\u001b[0m\u001b[1;32m    169\u001b[0m \u001b[0;34m\u001b[0m\u001b[0m\n\u001b[1;32m    170\u001b[0m         \u001b[0;32mreturn\u001b[0m\u001b[0;34m\u001b[0m\u001b[0m\n",
        "\u001b[0;32m/Users/laurel/Library/Enthought/Canopy_32bit/User/lib/python2.7/site-packages/ATpy-0.9.7-py2.7.egg/atpy/basetable.pyc\u001b[0m in \u001b[0;36mread\u001b[0;34m(self, *args, **kwargs)\u001b[0m\n\u001b[1;32m    212\u001b[0m \u001b[0;34m\u001b[0m\u001b[0m\n\u001b[1;32m    213\u001b[0m             \u001b[0;32mif\u001b[0m \u001b[0mtable_type\u001b[0m \u001b[0;32min\u001b[0m \u001b[0mregistry\u001b[0m\u001b[0;34m.\u001b[0m\u001b[0m_readers\u001b[0m\u001b[0;34m:\u001b[0m\u001b[0;34m\u001b[0m\u001b[0m\n\u001b[0;32m--> 214\u001b[0;31m                 \u001b[0mregistry\u001b[0m\u001b[0;34m.\u001b[0m\u001b[0m_readers\u001b[0m\u001b[0;34m[\u001b[0m\u001b[0mtable_type\u001b[0m\u001b[0;34m]\u001b[0m\u001b[0;34m(\u001b[0m\u001b[0mself\u001b[0m\u001b[0;34m,\u001b[0m \u001b[0;34m*\u001b[0m\u001b[0margs\u001b[0m\u001b[0;34m,\u001b[0m \u001b[0;34m**\u001b[0m\u001b[0mkwargs\u001b[0m\u001b[0;34m)\u001b[0m\u001b[0;34m\u001b[0m\u001b[0m\n\u001b[0m\u001b[1;32m    215\u001b[0m             \u001b[0;32melse\u001b[0m\u001b[0;34m:\u001b[0m\u001b[0;34m\u001b[0m\u001b[0m\n\u001b[1;32m    216\u001b[0m                 \u001b[0;32mraise\u001b[0m \u001b[0mException\u001b[0m\u001b[0;34m(\u001b[0m\u001b[0;34m\"Unknown table type: \"\u001b[0m \u001b[0;34m+\u001b[0m \u001b[0mtable_type\u001b[0m\u001b[0;34m)\u001b[0m\u001b[0;34m\u001b[0m\u001b[0m\n",
        "\u001b[0;32m/Users/laurel/Library/Enthought/Canopy_32bit/User/lib/python2.7/site-packages/ATpy-0.9.7-py2.7.egg/atpy/asciitables.pyc\u001b[0m in \u001b[0;36mread_ascii\u001b[0;34m(self, filename, **kwargs)\u001b[0m\n",
        "\u001b[0;32m/Users/laurel/Library/Enthought/Canopy_32bit/User/lib/python2.7/site-packages/ATpy-0.9.7-py2.7.egg/atpy/decorators.pyc\u001b[0m in \u001b[0;36m_auto_download_to_file\u001b[0;34m(read, table, filename, *args, **kwargs)\u001b[0m\n\u001b[1;32m     42\u001b[0m \u001b[0;34m\u001b[0m\u001b[0m\n\u001b[1;32m     43\u001b[0m     \u001b[0;31m# Otherwise just proceed as usual\u001b[0m\u001b[0;34m\u001b[0m\u001b[0;34m\u001b[0m\u001b[0m\n\u001b[0;32m---> 44\u001b[0;31m     \u001b[0;32mreturn\u001b[0m \u001b[0mread\u001b[0m\u001b[0;34m(\u001b[0m\u001b[0mtable\u001b[0m\u001b[0;34m,\u001b[0m \u001b[0mfilename\u001b[0m\u001b[0;34m,\u001b[0m \u001b[0;34m*\u001b[0m\u001b[0margs\u001b[0m\u001b[0;34m,\u001b[0m \u001b[0;34m**\u001b[0m\u001b[0mkwargs\u001b[0m\u001b[0;34m)\u001b[0m\u001b[0;34m\u001b[0m\u001b[0m\n\u001b[0m\u001b[1;32m     45\u001b[0m \u001b[0;34m\u001b[0m\u001b[0m\n\u001b[1;32m     46\u001b[0m \u001b[0;34m\u001b[0m\u001b[0m\n",
        "\u001b[0;32m/Users/laurel/Library/Enthought/Canopy_32bit/User/lib/python2.7/site-packages/ATpy-0.9.7-py2.7.egg/atpy/asciitables.pyc\u001b[0m in \u001b[0;36mread_ascii\u001b[0;34m(self, filename, **kwargs)\u001b[0m\n",
        "\u001b[0;32m/Users/laurel/Library/Enthought/Canopy_32bit/User/lib/python2.7/site-packages/ATpy-0.9.7-py2.7.egg/atpy/decorators.pyc\u001b[0m in \u001b[0;36m_auto_decompress_to_fileobj\u001b[0;34m(read, table, filename, *args, **kwargs)\u001b[0m\n\u001b[1;32m     61\u001b[0m             \u001b[0;32mreturn\u001b[0m \u001b[0mread\u001b[0m\u001b[0;34m(\u001b[0m\u001b[0mtable\u001b[0m\u001b[0;34m,\u001b[0m \u001b[0mbz2\u001b[0m\u001b[0;34m.\u001b[0m\u001b[0mBZ2File\u001b[0m\u001b[0;34m(\u001b[0m\u001b[0mfilename\u001b[0m\u001b[0;34m)\u001b[0m\u001b[0;34m,\u001b[0m \u001b[0;34m*\u001b[0m\u001b[0margs\u001b[0m\u001b[0;34m,\u001b[0m \u001b[0;34m**\u001b[0m\u001b[0mkwargs\u001b[0m\u001b[0;34m)\u001b[0m\u001b[0;34m\u001b[0m\u001b[0m\n\u001b[1;32m     62\u001b[0m         \u001b[0;32melse\u001b[0m\u001b[0;34m:\u001b[0m\u001b[0;34m\u001b[0m\u001b[0m\n\u001b[0;32m---> 63\u001b[0;31m             \u001b[0;32mreturn\u001b[0m \u001b[0mread\u001b[0m\u001b[0;34m(\u001b[0m\u001b[0mtable\u001b[0m\u001b[0;34m,\u001b[0m \u001b[0mfilename\u001b[0m\u001b[0;34m,\u001b[0m \u001b[0;34m*\u001b[0m\u001b[0margs\u001b[0m\u001b[0;34m,\u001b[0m \u001b[0;34m**\u001b[0m\u001b[0mkwargs\u001b[0m\u001b[0;34m)\u001b[0m\u001b[0;34m\u001b[0m\u001b[0m\n\u001b[0m\u001b[1;32m     64\u001b[0m \u001b[0;34m\u001b[0m\u001b[0m\n\u001b[1;32m     65\u001b[0m     \u001b[0;32mreturn\u001b[0m \u001b[0mread\u001b[0m\u001b[0;34m(\u001b[0m\u001b[0mtable\u001b[0m\u001b[0;34m,\u001b[0m \u001b[0mfilename\u001b[0m\u001b[0;34m,\u001b[0m \u001b[0;34m*\u001b[0m\u001b[0margs\u001b[0m\u001b[0;34m,\u001b[0m \u001b[0;34m**\u001b[0m\u001b[0mkwargs\u001b[0m\u001b[0;34m)\u001b[0m\u001b[0;34m\u001b[0m\u001b[0m\n",
        "\u001b[0;32m/Users/laurel/Library/Enthought/Canopy_32bit/User/lib/python2.7/site-packages/ATpy-0.9.7-py2.7.egg/atpy/asciitables.pyc\u001b[0m in \u001b[0;36mread_ascii\u001b[0;34m(self, filename, **kwargs)\u001b[0m\n\u001b[1;32m    127\u001b[0m     \u001b[0;32mif\u001b[0m \u001b[0;34m'Outputter'\u001b[0m \u001b[0;32min\u001b[0m \u001b[0mkwargs\u001b[0m\u001b[0;34m:\u001b[0m\u001b[0;34m\u001b[0m\u001b[0m\n\u001b[1;32m    128\u001b[0m         \u001b[0mkwargs\u001b[0m\u001b[0;34m.\u001b[0m\u001b[0mpop\u001b[0m\u001b[0;34m(\u001b[0m\u001b[0;34m'Outputter'\u001b[0m\u001b[0;34m)\u001b[0m\u001b[0;34m\u001b[0m\u001b[0m\n\u001b[0;32m--> 129\u001b[0;31m     \u001b[0mtable\u001b[0m \u001b[0;34m=\u001b[0m \u001b[0mascii\u001b[0m\u001b[0;34m.\u001b[0m\u001b[0mread\u001b[0m\u001b[0;34m(\u001b[0m\u001b[0mfilename\u001b[0m\u001b[0;34m,\u001b[0m \u001b[0;34m**\u001b[0m\u001b[0mkwargs\u001b[0m\u001b[0;34m)\u001b[0m\u001b[0;34m\u001b[0m\u001b[0m\n\u001b[0m\u001b[1;32m    130\u001b[0m \u001b[0;34m\u001b[0m\u001b[0m\n\u001b[1;32m    131\u001b[0m     \u001b[0;32mfor\u001b[0m \u001b[0mname\u001b[0m \u001b[0;32min\u001b[0m \u001b[0mtable\u001b[0m\u001b[0;34m.\u001b[0m\u001b[0mcolnames\u001b[0m\u001b[0;34m:\u001b[0m\u001b[0;34m\u001b[0m\u001b[0m\n",
        "\u001b[0;32m/Users/laurel/Library/Enthought/Canopy_32bit/User/lib/python2.7/site-packages/astropy-0.2.4-py2.7-macosx-10.6-i386.egg/astropy/io/ascii/ui.pyc\u001b[0m in \u001b[0;36mread\u001b[0;34m(table, guess, **kwargs)\u001b[0m\n\u001b[1;32m    126\u001b[0m         \u001b[0mguess\u001b[0m \u001b[0;34m=\u001b[0m \u001b[0m_GUESS\u001b[0m\u001b[0;34m\u001b[0m\u001b[0m\n\u001b[1;32m    127\u001b[0m     \u001b[0;32mif\u001b[0m \u001b[0mguess\u001b[0m\u001b[0;34m:\u001b[0m\u001b[0;34m\u001b[0m\u001b[0m\n\u001b[0;32m--> 128\u001b[0;31m         \u001b[0mdat\u001b[0m \u001b[0;34m=\u001b[0m \u001b[0m_guess\u001b[0m\u001b[0;34m(\u001b[0m\u001b[0mtable\u001b[0m\u001b[0;34m,\u001b[0m \u001b[0mnew_kwargs\u001b[0m\u001b[0;34m)\u001b[0m\u001b[0;34m\u001b[0m\u001b[0m\n\u001b[0m\u001b[1;32m    129\u001b[0m     \u001b[0;32melse\u001b[0m\u001b[0;34m:\u001b[0m\u001b[0;34m\u001b[0m\u001b[0m\n\u001b[1;32m    130\u001b[0m         \u001b[0mreader\u001b[0m \u001b[0;34m=\u001b[0m \u001b[0mget_reader\u001b[0m\u001b[0;34m(\u001b[0m\u001b[0;34m**\u001b[0m\u001b[0mnew_kwargs\u001b[0m\u001b[0;34m)\u001b[0m\u001b[0;34m\u001b[0m\u001b[0m\n",
        "\u001b[0;32m/Users/laurel/Library/Enthought/Canopy_32bit/User/lib/python2.7/site-packages/astropy-0.2.4-py2.7-macosx-10.6-i386.egg/astropy/io/ascii/ui.pyc\u001b[0m in \u001b[0;36m_guess\u001b[0;34m(table, read_kwargs)\u001b[0m\n\u001b[1;32m    202\u001b[0m             \u001b[0mlines\u001b[0m\u001b[0;34m.\u001b[0m\u001b[0mappend\u001b[0m\u001b[0;34m(\u001b[0m\u001b[0;34m'ERROR: Unable to guess table for with the guesses listed above.'\u001b[0m\u001b[0;34m)\u001b[0m\u001b[0;34m\u001b[0m\u001b[0m\n\u001b[1;32m    203\u001b[0m             \u001b[0mlines\u001b[0m\u001b[0;34m.\u001b[0m\u001b[0mappend\u001b[0m\u001b[0;34m(\u001b[0m\u001b[0;34m'Check the table and try with guess=False and appropriate arguments to read()'\u001b[0m\u001b[0;34m)\u001b[0m\u001b[0;34m\u001b[0m\u001b[0m\n\u001b[0;32m--> 204\u001b[0;31m             \u001b[0;32mraise\u001b[0m \u001b[0mcore\u001b[0m\u001b[0;34m.\u001b[0m\u001b[0mInconsistentTableError\u001b[0m\u001b[0;34m(\u001b[0m\u001b[0;34m'\\n'\u001b[0m\u001b[0;34m.\u001b[0m\u001b[0mjoin\u001b[0m\u001b[0;34m(\u001b[0m\u001b[0mlines\u001b[0m\u001b[0;34m)\u001b[0m\u001b[0;34m)\u001b[0m\u001b[0;34m\u001b[0m\u001b[0m\n\u001b[0m\u001b[1;32m    205\u001b[0m \u001b[0;34m\u001b[0m\u001b[0m\n\u001b[1;32m    206\u001b[0m \u001b[0;32mdef\u001b[0m \u001b[0m_get_guess_kwargs_list\u001b[0m\u001b[0;34m(\u001b[0m\u001b[0;34m)\u001b[0m\u001b[0;34m:\u001b[0m\u001b[0;34m\u001b[0m\u001b[0m\n",
        "\u001b[0;31mInconsistentTableError\u001b[0m: \nERROR: Unable to guess table for with the guesses listed below:\nReader:Basic\nReader:Rdb\nReader:Tab\nReader:Cds\nReader:Daophot\nReader:SExtractor\nReader:Ipac\nReader:Latex\nReader:AASTex\nReader:CommentedHeader delimiter: '|' quotechar: '\"'\nReader:CommentedHeader delimiter: '|' quotechar: \"'\"\nReader:CommentedHeader delimiter: ',' quotechar: '\"'\nReader:CommentedHeader delimiter: ',' quotechar: \"'\"\nReader:CommentedHeader delimiter: ' ' quotechar: '\"'\nReader:CommentedHeader delimiter: ' ' quotechar: \"'\"\nReader:CommentedHeader delimiter: '\\\\s' quotechar: '\"'\nReader:CommentedHeader delimiter: '\\\\s' quotechar: \"'\"\nReader:Basic delimiter: '|' quotechar: '\"'\nReader:Basic delimiter: '|' quotechar: \"'\"\nReader:Basic delimiter: ',' quotechar: '\"'\nReader:Basic delimiter: ',' quotechar: \"'\"\nReader:Basic delimiter: ' ' quotechar: '\"'\nReader:Basic delimiter: ' ' quotechar: \"'\"\nReader:Basic delimiter: '\\\\s' quotechar: '\"'\nReader:Basic delimiter: '\\\\s' quotechar: \"'\"\nReader:NoHeader delimiter: '|' quotechar: '\"'\nReader:NoHeader delimiter: '|' quotechar: \"'\"\nReader:NoHeader delimiter: ',' quotechar: '\"'\nReader:NoHeader delimiter: ',' quotechar: \"'\"\nReader:NoHeader delimiter: ' ' quotechar: '\"'\nReader:NoHeader delimiter: ' ' quotechar: \"'\"\nReader:NoHeader delimiter: '\\\\s' quotechar: '\"'\nReader:NoHeader delimiter: '\\\\s' quotechar: \"'\"\nReader:Basic\nERROR: Unable to guess table for with the guesses listed above.\nCheck the table and try with guess=False and appropriate arguments to read()"
       ]
      },
      {
       "output_type": "stream",
       "stream": "stdout",
       "text": [
        "ERROR: InconsistentTableError: \n",
        "ERROR: Unable to guess table for with the guesses listed below:\n",
        "Reader:Basic\n",
        "Reader:Rdb\n",
        "Reader:Tab\n",
        "Reader:Cds\n",
        "Reader:Daophot\n",
        "Reader:SExtractor\n",
        "Reader:Ipac\n",
        "Reader:Latex\n",
        "Reader:AASTex\n",
        "Reader:CommentedHeader delimiter: '|' quotechar: '\"'\n",
        "Reader:CommentedHeader delimiter: '|' quotechar: \"'\"\n",
        "Reader:CommentedHeader delimiter: ',' quotechar: '\"'\n",
        "Reader:CommentedHeader delimiter: ',' quotechar: \"'\"\n",
        "Reader:CommentedHeader delimiter: ' ' quotechar: '\"'\n",
        "Reader:CommentedHeader delimiter: ' ' quotechar: \"'\"\n",
        "Reader:CommentedHeader delimiter: '\\\\s' quotechar: '\"'\n",
        "Reader:CommentedHeader delimiter: '\\\\s' quotechar: \"'\"\n",
        "Reader:Basic delimiter: '|' quotechar: '\"'\n",
        "Reader:Basic delimiter: '|' quotechar: \"'\"\n",
        "Reader:Basic delimiter: ',' quotechar: '\"'\n",
        "Reader:Basic delimiter: ',' quotechar: \"'\"\n",
        "Reader:Basic delimiter: ' ' quotechar: '\"'\n",
        "Reader:Basic delimiter: ' ' quotechar: \"'\"\n",
        "Reader:Basic delimiter: '\\\\s' quotechar: '\"'\n",
        "Reader:Basic delimiter: '\\\\s' quotechar: \"'\"\n",
        "Reader:NoHeader delimiter: '|' quotechar: '\"'\n",
        "Reader:NoHeader delimiter: '|' quotechar: \"'\"\n",
        "Reader:NoHeader delimiter: ',' quotechar: '\"'\n",
        "Reader:NoHeader delimiter: ',' quotechar: \"'\"\n",
        "Reader:NoHeader delimiter: ' ' quotechar: '\"'\n",
        "Reader:NoHeader delimiter: ' ' quotechar: \"'\"\n",
        "Reader:NoHeader delimiter: '\\\\s' quotechar: '\"'\n",
        "Reader:NoHeader delimiter: '\\\\s' quotechar: \"'\"\n",
        "Reader:Basic\n",
        "ERROR: Unable to guess table for with the guesses listed above.\n",
        "Check the table and try with guess=False and appropriate arguments to read() [astropy.io.ascii.ui]\n"
       ]
      }
     ],
     "prompt_number": 11
    },
    {
     "cell_type": "code",
     "collapsed": false,
     "input": [
      "data.columns"
     ],
     "language": "python",
     "metadata": {},
     "outputs": [
      {
       "metadata": {},
       "output_type": "pyout",
       "prompt_number": 45,
       "text": [
        "Index([u'DateCreated', u'Path', u'STARTING MODEL', u'BINARY OUTPUT FILE', u'MODA', u'NMOD', u'NRIT', u'ITMN', u'ITMX', u'JADD', u'JSUB', u'NATM', u'Atmx', u'Atmn', u'dTAX', u'L/H', u'dLmx', u'dLmn', u'dXmx', u'dXmn', u'dPmx', u'dPmn', u'Crad', u'Cwrk', u'dZmx', u'dZmn', u'dZdt', u'epsP', u'epsR', u'epsL', u'epsT', u'SminP', u'SminR', u'SminL', u'SminT', u'SmaxP', u'SmaxR', u'SmaxL', u'SmaxT', u'dTIM', u'FACT', u'dTMN', u'dTMX', u'CHMN', u'CHMX', u'XX', u'YY', u'JNOU', u'SIGM', u'KZPE', u'ZSTA', u'ECCN', u'SEMI', u'VALN', u'QVAL', u'Zmass'], dtype=object)"
       ]
      }
     ],
     "prompt_number": 45
    },
    {
     "cell_type": "code",
     "collapsed": false,
     "input": [],
     "language": "python",
     "metadata": {},
     "outputs": []
    }
   ],
   "metadata": {}
  }
 ]
}