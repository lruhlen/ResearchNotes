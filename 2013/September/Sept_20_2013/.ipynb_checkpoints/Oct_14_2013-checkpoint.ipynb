{
 "metadata": {
  "name": ""
 },
 "nbformat": 3,
 "nbformat_minor": 0,
 "worksheets": [
  {
   "cells": [
    {
     "cell_type": "markdown",
     "metadata": {},
     "source": [
      "#October 14, 2013"
     ]
    },
    {
     "cell_type": "markdown",
     "metadata": {},
     "source": [
      "Now ensconced at a table in Mike's place in Atlanta.  \n",
      "\n",
      "##Hardware things to take care of:\n",
      "\n",
      "+ Get a new battery (mine finally bloated and died)\n",
      "  - A1175 10.8V, 60Wh\n",
      "+ Get the wifi network and password\n",
      "+ Get a USB hub/multiplier to plug into this laptop\n",
      "+ Find/get a powerstrip?\n",
      "+ Find/get an external monitor?\n",
      "\n",
      "----\n"
     ]
    },
    {
     "cell_type": "markdown",
     "metadata": {},
     "source": [
      "##Papers to read:\n",
      "(start here, b/c I may not need internet access for some of these papers.  Stored locally, Mendeley...?)\n",
      "\n",
      "+ The paper Greg emailed me last month (with the planet to simulate, I think?)\n",
      "+ Wu & Murray 2003 (or 2002?)\n",
      "+ Wisdom 2008 (tidal Q calculations done right)\n",
      "\n",
      "----"
     ]
    },
    {
     "cell_type": "markdown",
     "metadata": {},
     "source": [
      "##Software/programming things to do:\n",
      "\n",
      "+ \n",
      "\n",
      "----"
     ]
    },
    {
     "cell_type": "code",
     "collapsed": false,
     "input": [],
     "language": "python",
     "metadata": {},
     "outputs": []
    }
   ],
   "metadata": {}
  }
 ]
}