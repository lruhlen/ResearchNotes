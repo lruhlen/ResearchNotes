{
 "metadata": {
  "name": ""
 },
 "nbformat": 3,
 "nbformat_minor": 0,
 "worksheets": [
  {
   "cells": [
    {
     "cell_type": "markdown",
     "metadata": {},
     "source": [
      "#October 14, 2013"
     ]
    },
    {
     "cell_type": "markdown",
     "metadata": {},
     "source": [
      "Now ensconced at a table in Mike's place in Atlanta.  \n",
      "\n",
      "##Hardware things to take care of:\n",
      "\n",
      "+ ORDERED Get a new battery (mine finally bloated and died)\n",
      "  - A1175 10.8V, 60Wh\n",
      "+ DONE Get the wifi network and password\n",
      "+ ORDERED Get a USB hub/multiplier to plug into this laptop\n",
      "+ DONE Find/get a powerstrip?\n",
      "+ ORDERED Find/get an external monitor?\n",
      "\n",
      "----\n"
     ]
    },
    {
     "cell_type": "markdown",
     "metadata": {},
     "source": [
      "##Papers to read:\n",
      "(start here, b/c I may not need internet access for some of these papers.  Stored locally, Mendeley...?)\n",
      "\n",
      "+ The paper Greg emailed me last month (with the planet to simulate, I think?)\n",
      "+ Wu & Murray 2003 (or 2002?)\n",
      "+ Wisdom 2008 (tidal Q calculations done right)\n",
      "\n",
      "----"
     ]
    },
    {
     "cell_type": "markdown",
     "metadata": {},
     "source": [
      "##Software/programming things to do:\n",
      "\n",
      "+ Once I get internet access sorted out:\n",
      " - Use Starcluster to set up an amazon cluster\n",
      " - Run a parallel test on the cluster\n",
      "     - Figure out what to use as a test...\n",
      "+ Figure out the parameter space to investigate for the planet in the paper Greg sent me\n",
      "\n",
      "----"
     ]
    },
    {
     "cell_type": "markdown",
     "metadata": {},
     "source": [
      "###Starcluster tests...\n",
      "\n",
      "Which parallelization scheme to use? Probably should use the python notebook server scheme, since it can function across multiple machines.\n",
      "\n",
      "So, figure out how to use the python server stuff...\n",
      "\n",
      " + http://ipython.org/ipython-doc/dev/parallel/parallel_process.html\n",
      " + http://gordoncluster.wordpress.com/2013/09/10/how-to-create-a-powerful-parallel-cluster-on-ec2-with-ipython-notebook-web-client/\n",
      " + http://star.mit.edu/cluster/docs/latest/plugins/ipython.html#using-the-ipython-cluster\n",
      " + http://ipython.org/ipython-doc/stable/parallel/parallel_intro.html#introduction"
     ]
    },
    {
     "cell_type": "code",
     "collapsed": false,
     "input": [
      "from IPython.parallel import Client\n"
     ],
     "language": "python",
     "metadata": {},
     "outputs": [],
     "prompt_number": 3
    },
    {
     "cell_type": "code",
     "collapsed": false,
     "input": [
      "ipcluster -h"
     ],
     "language": "python",
     "metadata": {},
     "outputs": [
      {
       "ename": "NameError",
       "evalue": "name 'ipcluster' is not defined",
       "output_type": "pyerr",
       "traceback": [
        "\u001b[0;31m---------------------------------------------------------------------------\u001b[0m\n\u001b[0;31mNameError\u001b[0m                                 Traceback (most recent call last)",
        "\u001b[0;32m<ipython-input-6-c9e469de39ae>\u001b[0m in \u001b[0;36m<module>\u001b[0;34m()\u001b[0m\n\u001b[0;32m----> 1\u001b[0;31m \u001b[0mipcluster\u001b[0m \u001b[0;34m-\u001b[0m\u001b[0mh\u001b[0m\u001b[0;34m\u001b[0m\u001b[0m\n\u001b[0m",
        "\u001b[0;31mNameError\u001b[0m: name 'ipcluster' is not defined"
       ]
      }
     ],
     "prompt_number": 6
    },
    {
     "cell_type": "code",
     "collapsed": false,
     "input": [],
     "language": "python",
     "metadata": {},
     "outputs": []
    }
   ],
   "metadata": {}
  }
 ]
}